{
 "cells": [
  {
   "cell_type": "code",
   "execution_count": 1,
   "id": "da0b96fb",
   "metadata": {},
   "outputs": [],
   "source": [
    "import json\n",
    "import pandas as pd\n",
    "import os\n",
    "import sys\n",
    "\n",
    "json_path = \"data/commits\"\n",
    "result_path = \"merge/commits\""
   ]
  },
  {
   "cell_type": "code",
   "execution_count": 2,
   "id": "5ef318be",
   "metadata": {},
   "outputs": [
    {
     "name": "stdout",
     "output_type": "stream",
     "text": [
      "data/commits\n",
      "merge/commits\n",
      "2017\n"
     ]
    }
   ],
   "source": [
    " print(json_path)\n",
    " print(result_path)\n",
    " print(len(os.listdir(json_path)))"
   ]
  },
  {
   "cell_type": "code",
   "execution_count": 3,
   "id": "f3f4bd32",
   "metadata": {},
   "outputs": [
    {
     "name": "stdout",
     "output_type": "stream",
     "text": [
      "files finished\n"
     ]
    }
   ],
   "source": [
    "# merge json files into DataFrame\n",
    "files = []\n",
    "for i in range(len(os.listdir(json_path))):\n",
    "    files.append(json_path + \"/\" + str(i) + \".json\")\n",
    "print(\"files finished\")"
   ]
  },
  {
   "cell_type": "code",
   "execution_count": 4,
   "id": "b61a612b",
   "metadata": {},
   "outputs": [
    {
     "name": "stdout",
     "output_type": "stream",
     "text": [
      "merge finished\n"
     ]
    }
   ],
   "source": [
    "merged = []\n",
    "for i in range(len(os.listdir(json_path))):\n",
    "    with open(files[i]) as f:\n",
    "        tmp = json.load(f)['items']\n",
    "        if tmp:\n",
    "            merged.append(tmp)\n",
    "print(\"merge finished\")"
   ]
  },
  {
   "cell_type": "code",
   "execution_count": 5,
   "id": "6198dcf9",
   "metadata": {},
   "outputs": [
    {
     "data": {
      "text/plain": [
       "349"
      ]
     },
     "execution_count": 5,
     "metadata": {},
     "output_type": "execute_result"
    }
   ],
   "source": [
    "len(merged)"
   ]
  },
  {
   "cell_type": "code",
   "execution_count": 6,
   "id": "ffccad41",
   "metadata": {},
   "outputs": [],
   "source": [
    "df = pd.DataFrame()\n",
    "for i in range(len(merged)):\n",
    "    #print(i)\n",
    "    new_data = pd.DataFrame(pd.json_normalize(merged[i]))\n",
    "    df = pd.concat([df,new_data])"
   ]
  },
  {
   "cell_type": "code",
   "execution_count": 7,
   "id": "53d8ca1c",
   "metadata": {},
   "outputs": [
    {
     "data": {
      "text/plain": [
       "17556"
      ]
     },
     "execution_count": 7,
     "metadata": {},
     "output_type": "execute_result"
    }
   ],
   "source": [
    "# display(df)\n",
    "len(df)"
   ]
  },
  {
   "cell_type": "code",
   "execution_count": 8,
   "id": "f907f033",
   "metadata": {},
   "outputs": [],
   "source": [
    "#df['commit.message']"
   ]
  },
  {
   "cell_type": "code",
   "execution_count": 9,
   "id": "0b789bc1",
   "metadata": {},
   "outputs": [],
   "source": [
    "# converting to csv files (repo & ros_repo)\n",
    "#df = df[['name', 'full_name', 'html_url', 'description', 'created_at', 'updated_at', 'git_url']].reset_index(drop=True)\n",
    "# commits\n",
    "df = df[['commit.message', 'repository.html_url']].reset_index(drop=True)\n",
    "# os.makedirs('result', exist_ok=True)\n",
    "# df.to_csv(result_path + \".csv\")"
   ]
  },
  {
   "cell_type": "code",
   "execution_count": 10,
   "id": "70c4042b",
   "metadata": {},
   "outputs": [],
   "source": [
    "df2 = df.groupby('repository.html_url')"
   ]
  },
  {
   "cell_type": "code",
   "execution_count": 11,
   "id": "8aa16686",
   "metadata": {},
   "outputs": [
    {
     "data": {
      "text/plain": [
       "'https://github.com/070411209/rotors_simulator'"
      ]
     },
     "execution_count": 11,
     "metadata": {},
     "output_type": "execute_result"
    }
   ],
   "source": [
    "# all repos without duplicates\n",
    "repos = list(df2.groups.keys())\n",
    "# len(repos)\n",
    "repos[0]"
   ]
  },
  {
   "cell_type": "code",
   "execution_count": 12,
   "id": "77aeafe8",
   "metadata": {},
   "outputs": [],
   "source": [
    "result = pd.DataFrame()\n",
    "for i in range(len(repos)):\n",
    "    msg = df[df['repository.html_url'] == repos[i]]['commit.message'].values\n",
    "    tmp_df = pd.DataFrame(msg, columns = [repos[i]]).transpose()\n",
    "    result = pd.concat([result,tmp_df])"
   ]
  },
  {
   "cell_type": "code",
   "execution_count": 13,
   "id": "9f4be5df",
   "metadata": {},
   "outputs": [],
   "source": [
    "#result\n",
    "result.to_csv(result_path + \"2.csv\")"
   ]
  },
  {
   "cell_type": "code",
   "execution_count": 52,
   "id": "e9bb147b",
   "metadata": {},
   "outputs": [],
   "source": [
    "df3 = df[df['repository.html_url'] == 'https://github.com/070411209/rotors_simulator']['commit.message'].values"
   ]
  },
  {
   "cell_type": "code",
   "execution_count": 53,
   "id": "2b342683",
   "metadata": {},
   "outputs": [
    {
     "data": {
      "text/plain": [
       "pandas.core.frame.DataFrame"
      ]
     },
     "execution_count": 53,
     "metadata": {},
     "output_type": "execute_result"
    }
   ],
   "source": [
    "a = pd.DataFrame(df3, columns = ['https://github.com/070411209/rotors_simulator']).transpose()\n",
    "type(a)"
   ]
  },
  {
   "cell_type": "code",
   "execution_count": 40,
   "id": "bebf36b7",
   "metadata": {},
   "outputs": [
    {
     "data": {
      "text/plain": [
       "array(['Adding ability to start and stop rosbag recording on command',\n",
       "       'Adding ability to start and stop rosbag recording on command',\n",
       "       'Revert \"Adding ability to start and stop rosbag recording on command\"\\n\\nThis reverts commit b747b360199629c31290b2892daa484dddb52d3c.',\n",
       "       'Merge pull request #295 from pvechersky/feature/rosbag_record_start_stop\\n\\nAdding ability to start and stop rosbag recording on command',\n",
       "       'Adding a const for initial default value for is_recording_ in rosbag plugin',\n",
       "       'Merge pull request #302 from pvechersky/fix/rosbag_stop_record_sequence\\n\\nFixing the order of operations in stopping the recording of a rosbag',\n",
       "       'Fixing the order of operations in stopping the recording of a rosbag',\n",
       "       'Adding wind speed recording to rosbag plugin.'], dtype=object)"
      ]
     },
     "execution_count": 40,
     "metadata": {},
     "output_type": "execute_result"
    }
   ],
   "source": [
    "df3"
   ]
  },
  {
   "cell_type": "code",
   "execution_count": null,
   "id": "07a3e9b9",
   "metadata": {},
   "outputs": [],
   "source": []
  },
  {
   "cell_type": "code",
   "execution_count": null,
   "id": "ed125536",
   "metadata": {},
   "outputs": [],
   "source": []
  },
  {
   "cell_type": "code",
   "execution_count": null,
   "id": "f9374976",
   "metadata": {},
   "outputs": [],
   "source": [
    "\n"
   ]
  },
  {
   "cell_type": "code",
   "execution_count": null,
   "id": "c1bb0af1",
   "metadata": {},
   "outputs": [],
   "source": []
  }
 ],
 "metadata": {
  "kernelspec": {
   "display_name": "Python 3 (ipykernel)",
   "language": "python",
   "name": "python3"
  },
  "language_info": {
   "codemirror_mode": {
    "name": "ipython",
    "version": 3
   },
   "file_extension": ".py",
   "mimetype": "text/x-python",
   "name": "python",
   "nbconvert_exporter": "python",
   "pygments_lexer": "ipython3",
   "version": "3.9.5"
  }
 },
 "nbformat": 4,
 "nbformat_minor": 5
}
